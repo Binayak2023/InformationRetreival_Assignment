{
 "cells": [
  {
   "cell_type": "code",
   "execution_count": 1,
   "id": "4dfeee1d-821d-443d-a28f-faaaa7efbccd",
   "metadata": {},
   "outputs": [],
   "source": [
    "import requests\n",
    "from bs4 import BeautifulSoup\n",
    "import json\n",
    "import re\n",
    "import time\n",
    "import os"
   ]
  },
  {
   "cell_type": "code",
   "execution_count": 3,
   "id": "d7bb2bf0-81f8-4ae6-a8d4-3df78f68526c",
   "metadata": {},
   "outputs": [],
   "source": [
    "def getProfileURLorNone(url):\n",
    "    if \"no-content\" in url:\n",
    "        return None\n",
    "    pattern = r\"^(\\\\/[^?]+)\"\n",
    "    path_match = re.match(pattern, url)\n",
    "    path = None\n",
    "    if path_match:\n",
    "        path = path_match.group(1)\n",
    "    return path    "
   ]
  },
  {
   "cell_type": "code",
   "execution_count": 7,
   "id": "577c36af-d6bd-4e02-a03b-1319b6dc5d38",
   "metadata": {},
   "outputs": [
    {
     "name": "stdout",
     "output_type": "stream",
     "text": [
      "Finished page 1\n"
     ]
    }
   ],
   "source": [
    "def scrapeAuthors(start_page=1, page_limit=1000):\n",
    "    page = start_page\n",
    "    base_url = \"https://pureportal.coventry.ac.uk\"\n",
    "    url = f\"{base_url}/en/organisations/eec-school-of-computing-mathematics-and-data-sciences-cmds/persons/\"\n",
    "    authors = []\n",
    "    \n",
    "    while page < page_limit:\n",
    "        try:\n",
    "            pageSource = requests.get(url).text\n",
    "            soup = BeautifulSoup(pageSource, \"html.parser\")\n",
    "            authorList = soup.select(\"li.grid-result-item div.result-container\")\n",
    "            if len(authorList) == 0:\n",
    "                break\n",
    "            for author in authorList:\n",
    "                try:\n",
    "                    authorInfo = {}\n",
    "                    authorInfo['picUrl'] = getProfileURLorNone(\n",
    "                            author.select_one(\"img\")['src']\n",
    "                    )\n",
    "                    if authorInfo['picUrl'] is not None:\n",
    "                        authorInfo['picUrl'] = base_url + authorInfo['picUrl']\n",
    "                    name = author.select_one(\"a\", attrs={'rel': 'Person'})\n",
    "                    authorInfo['name'] = name.text\n",
    "                    authorInfo['profileLink'] = base_url + name['href']\n",
    "                    dept = author.select_one(\".relations.organisations a\", \n",
    "                            attrs={'rel': 'Organisation'})\n",
    "                    authorInfo['department'] = dept.text\n",
    "                    authorInfo['deptLink'] = base_url + dept['href']\n",
    "                    authors.append(authorInfo)\n",
    "                except Exception as e:\n",
    "                    print(f\"Error processing author: {e}\")\n",
    "                    pass\n",
    "            \n",
    "            print(f\"Finished page {page}\")\n",
    "            page += 1\n",
    "\n",
    "            # Look for next page link and update the URL\n",
    "            next_page_link = soup.select_one(\"a[rel='next']\")\n",
    "            if next_page_link:\n",
    "                url = next_page_link['href']\n",
    "                if not url.startswith(\"http\"):\n",
    "                    url = base_url + url\n",
    "            else:\n",
    "                break\n",
    "                \n",
    "        except Exception as e:\n",
    "            print(f\"Error processing page {page}: {e}\")\n",
    "            break\n",
    "    \n",
    "    # Use a safe timestamp format for the filename\n",
    "    timestamp = time.strftime(\"%Y%m%d-%H%M%S\")\n",
    "    if not os.path.exists(\"./scrapedData\"):\n",
    "        os.makedirs(\"./scrapedData\")\n",
    "    with open(f\"./scrapedData/authors-{timestamp}.json\", \"w\") as f:\n",
    "        f.write(json.dumps(authors, indent=4))\n",
    "    \n",
    "    return authors\n",
    "\n",
    "if __name__ == '__main__':\n",
    "    scrapeAuthors()"
   ]
  },
  {
   "cell_type": "code",
   "execution_count": null,
   "id": "22a73125-ad6d-4c0c-82bc-ca03ac93f22c",
   "metadata": {},
   "outputs": [],
   "source": []
  }
 ],
 "metadata": {
  "kernelspec": {
   "display_name": "Python 3 (ipykernel)",
   "language": "python",
   "name": "python3"
  },
  "language_info": {
   "codemirror_mode": {
    "name": "ipython",
    "version": 3
   },
   "file_extension": ".py",
   "mimetype": "text/x-python",
   "name": "python",
   "nbconvert_exporter": "python",
   "pygments_lexer": "ipython3",
   "version": "3.12.4"
  }
 },
 "nbformat": 4,
 "nbformat_minor": 5
}
